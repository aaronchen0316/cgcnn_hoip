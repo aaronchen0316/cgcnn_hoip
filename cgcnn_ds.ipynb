{
  "nbformat": 4,
  "nbformat_minor": 0,
  "metadata": {
    "colab": {
      "name": "cgcnn_ds.ipynb",
      "provenance": [],
      "collapsed_sections": [],
      "mount_file_id": "1SRFq0aClTsh7auYapUGXwRp7PVk0rrYl",
      "authorship_tag": "ABX9TyOZH6ULqEWFeB9DZMTXQlVL",
      "include_colab_link": true
    },
    "kernelspec": {
      "name": "python3",
      "display_name": "Python 3"
    },
    "accelerator": "GPU"
  },
  "cells": [
    {
      "cell_type": "markdown",
      "metadata": {
        "id": "view-in-github",
        "colab_type": "text"
      },
      "source": [
        "<a href=\"https://colab.research.google.com/github/sh-divya/cgcnn_hoip/blob/main/cgcnn_ds.ipynb\" target=\"_parent\"><img src=\"https://colab.research.google.com/assets/colab-badge.svg\" alt=\"Open In Colab\"/></a>"
      ]
    },
    {
      "cell_type": "code",
      "metadata": {
        "id": "w6m4PUeTPUr8",
        "colab": {
          "base_uri": "https://localhost:8080/"
        },
        "outputId": "23ba54f0-dd3f-491b-ddf9-2fb3ab836fe0"
      },
      "source": [
        "cd drive/"
      ],
      "execution_count": 1,
      "outputs": [
        {
          "output_type": "stream",
          "text": [
            "/content/drive\n"
          ],
          "name": "stdout"
        }
      ]
    },
    {
      "cell_type": "code",
      "metadata": {
        "colab": {
          "base_uri": "https://localhost:8080/"
        },
        "id": "s4mFs-3c2NdE",
        "outputId": "82d0de6a-e819-4b41-b52a-396f6b8324bc"
      },
      "source": [
        "ls"
      ],
      "execution_count": 2,
      "outputs": [
        {
          "output_type": "stream",
          "text": [
            "\u001b[0m\u001b[01;34mMyDrive\u001b[0m/\n"
          ],
          "name": "stdout"
        }
      ]
    },
    {
      "cell_type": "code",
      "metadata": {
        "colab": {
          "base_uri": "https://localhost:8080/"
        },
        "id": "JxoKbeAH2OJc",
        "outputId": "645308f3-dd20-4593-9380-5df21e14791f"
      },
      "source": [
        "cd MyDrive/"
      ],
      "execution_count": 3,
      "outputs": [
        {
          "output_type": "stream",
          "text": [
            "/content/drive/MyDrive\n"
          ],
          "name": "stdout"
        }
      ]
    },
    {
      "cell_type": "code",
      "metadata": {
        "id": "kb24HUq22Pm0"
      },
      "source": [
        "ls"
      ],
      "execution_count": null,
      "outputs": []
    },
    {
      "cell_type": "code",
      "metadata": {
        "colab": {
          "base_uri": "https://localhost:8080/"
        },
        "id": "0sRtXuYv2QZf",
        "outputId": "7102b25a-048f-4c52-9788-fa5a67749f48"
      },
      "source": [
        "cd cgcnn_hoip/"
      ],
      "execution_count": 4,
      "outputs": [
        {
          "output_type": "stream",
          "text": [
            "/content/drive/MyDrive/cgcnn_hoip\n"
          ],
          "name": "stdout"
        }
      ]
    },
    {
      "cell_type": "code",
      "metadata": {
        "colab": {
          "base_uri": "https://localhost:8080/"
        },
        "id": "oi3V7sFf8_7p",
        "outputId": "2f4f60b0-9054-4118-9d73-931aa45fe0dc"
      },
      "source": [
        "!realpath material-data/\n",
        "!ls material-data"
      ],
      "execution_count": 5,
      "outputs": [
        {
          "output_type": "stream",
          "text": [
            "/content/drive/MyDrive/cgcnn_hoip/material-data\n",
            "mp-ids-27430.csv  mp-ids-3402.csv  mp-ids-46744.csv  README.md\n"
          ],
          "name": "stdout"
        }
      ]
    },
    {
      "cell_type": "code",
      "metadata": {
        "id": "LpfMAsg43RpL",
        "colab": {
          "base_uri": "https://localhost:8080/"
        },
        "outputId": "6ba76ab8-fb2f-44d7-e877-26a0edcea579"
      },
      "source": [
        "!pip3 install pymatgen"
      ],
      "execution_count": 6,
      "outputs": [
        {
          "output_type": "stream",
          "text": [
            "Collecting pymatgen\n",
            "\u001b[?25l  Downloading https://files.pythonhosted.org/packages/19/3d/781d17d5d3d6ddbcb88833ded521349f7dea47366a1dc59fb275a5c935e0/pymatgen-2020.11.11.tar.gz (2.8MB)\n",
            "\u001b[K     |████████████████████████████████| 2.8MB 12.1MB/s \n",
            "\u001b[?25hRequirement already satisfied: numpy>=1.14.3 in /usr/local/lib/python3.6/dist-packages (from pymatgen) (1.18.5)\n",
            "Requirement already satisfied: requests in /usr/local/lib/python3.6/dist-packages (from pymatgen) (2.23.0)\n",
            "Collecting ruamel.yaml>=0.15.6\n",
            "\u001b[?25l  Downloading https://files.pythonhosted.org/packages/7e/39/186f14f3836ac5d2a6a042c8de69988770e8b9abb537610edc429e4914aa/ruamel.yaml-0.16.12-py2.py3-none-any.whl (111kB)\n",
            "\u001b[K     |████████████████████████████████| 112kB 51.8MB/s \n",
            "\u001b[?25hCollecting monty>=3.0.2\n",
            "\u001b[?25l  Downloading https://files.pythonhosted.org/packages/eb/ce/fb3da79f73d6f914204af8fd4965ad32b23097baf33c1b709e32a1bfae3f/monty-4.0.2-py3-none-any.whl (62kB)\n",
            "\u001b[K     |████████████████████████████████| 71kB 10.1MB/s \n",
            "\u001b[?25hCollecting scipy>=1.5.0\n",
            "\u001b[?25l  Downloading https://files.pythonhosted.org/packages/c8/89/63171228d5ced148f5ced50305c89e8576ffc695a90b58fe5bb602b910c2/scipy-1.5.4-cp36-cp36m-manylinux1_x86_64.whl (25.9MB)\n",
            "\u001b[K     |████████████████████████████████| 25.9MB 1.5MB/s \n",
            "\u001b[?25hRequirement already satisfied: tabulate in /usr/local/lib/python3.6/dist-packages (from pymatgen) (0.8.7)\n",
            "Collecting spglib>=1.9.9.44\n",
            "\u001b[?25l  Downloading https://files.pythonhosted.org/packages/22/16/efc10f7611f94de5503c4f33c216b73bcf99688382e9b9855f5442973b90/spglib-1.16.0-cp36-cp36m-manylinux2010_x86_64.whl (295kB)\n",
            "\u001b[K     |████████████████████████████████| 296kB 52.4MB/s \n",
            "\u001b[?25hRequirement already satisfied: networkx>=2.2 in /usr/local/lib/python3.6/dist-packages (from pymatgen) (2.5)\n",
            "Requirement already satisfied: matplotlib>=1.5 in /usr/local/lib/python3.6/dist-packages (from pymatgen) (3.2.2)\n",
            "Requirement already satisfied: palettable>=3.1.1 in /usr/local/lib/python3.6/dist-packages (from pymatgen) (3.3.0)\n",
            "Requirement already satisfied: sympy in /usr/local/lib/python3.6/dist-packages (from pymatgen) (1.1.1)\n",
            "Requirement already satisfied: pandas in /usr/local/lib/python3.6/dist-packages (from pymatgen) (1.1.4)\n",
            "Collecting plotly>=4.5.0\n",
            "\u001b[?25l  Downloading https://files.pythonhosted.org/packages/4c/f3/93bc71d449828098efc7dda0a682937762d0c17f6140dcbc6fc6fa2a467d/plotly-4.13.0-py2.py3-none-any.whl (13.1MB)\n",
            "\u001b[K     |████████████████████████████████| 13.1MB 53.8MB/s \n",
            "\u001b[?25hCollecting uncertainties>=3.1.4\n",
            "\u001b[?25l  Downloading https://files.pythonhosted.org/packages/45/41/fc7e7b73b603e7c2c9e040b7aa8caf4a88d74b6faa567601ed82b6f0d8e1/uncertainties-3.1.5-py2.py3-none-any.whl (246kB)\n",
            "\u001b[K     |████████████████████████████████| 256kB 53.8MB/s \n",
            "\u001b[?25hRequirement already satisfied: dataclasses>=0.6 in /usr/local/lib/python3.6/dist-packages (from pymatgen) (0.8)\n",
            "Requirement already satisfied: chardet<4,>=3.0.2 in /usr/local/lib/python3.6/dist-packages (from requests->pymatgen) (3.0.4)\n",
            "Requirement already satisfied: idna<3,>=2.5 in /usr/local/lib/python3.6/dist-packages (from requests->pymatgen) (2.10)\n",
            "Requirement already satisfied: certifi>=2017.4.17 in /usr/local/lib/python3.6/dist-packages (from requests->pymatgen) (2020.11.8)\n",
            "Requirement already satisfied: urllib3!=1.25.0,!=1.25.1,<1.26,>=1.21.1 in /usr/local/lib/python3.6/dist-packages (from requests->pymatgen) (1.24.3)\n",
            "Collecting ruamel.yaml.clib>=0.1.2; platform_python_implementation == \"CPython\" and python_version < \"3.9\"\n",
            "\u001b[?25l  Downloading https://files.pythonhosted.org/packages/88/ff/ec25dc01ef04232a9e68ff18492e37dfa01f1f58172e702ad4f38536d41b/ruamel.yaml.clib-0.2.2-cp36-cp36m-manylinux1_x86_64.whl (549kB)\n",
            "\u001b[K     |████████████████████████████████| 552kB 49.1MB/s \n",
            "\u001b[?25hRequirement already satisfied: decorator>=4.3.0 in /usr/local/lib/python3.6/dist-packages (from networkx>=2.2->pymatgen) (4.4.2)\n",
            "Requirement already satisfied: pyparsing!=2.0.4,!=2.1.2,!=2.1.6,>=2.0.1 in /usr/local/lib/python3.6/dist-packages (from matplotlib>=1.5->pymatgen) (2.4.7)\n",
            "Requirement already satisfied: cycler>=0.10 in /usr/local/lib/python3.6/dist-packages (from matplotlib>=1.5->pymatgen) (0.10.0)\n",
            "Requirement already satisfied: python-dateutil>=2.1 in /usr/local/lib/python3.6/dist-packages (from matplotlib>=1.5->pymatgen) (2.8.1)\n",
            "Requirement already satisfied: kiwisolver>=1.0.1 in /usr/local/lib/python3.6/dist-packages (from matplotlib>=1.5->pymatgen) (1.3.1)\n",
            "Requirement already satisfied: mpmath>=0.19 in /usr/local/lib/python3.6/dist-packages (from sympy->pymatgen) (1.1.0)\n",
            "Requirement already satisfied: pytz>=2017.2 in /usr/local/lib/python3.6/dist-packages (from pandas->pymatgen) (2018.9)\n",
            "Requirement already satisfied: retrying>=1.3.3 in /usr/local/lib/python3.6/dist-packages (from plotly>=4.5.0->pymatgen) (1.3.3)\n",
            "Requirement already satisfied: six in /usr/local/lib/python3.6/dist-packages (from plotly>=4.5.0->pymatgen) (1.15.0)\n",
            "Requirement already satisfied: future in /usr/local/lib/python3.6/dist-packages (from uncertainties>=3.1.4->pymatgen) (0.16.0)\n",
            "Building wheels for collected packages: pymatgen\n",
            "  Building wheel for pymatgen (setup.py) ... \u001b[?25l\u001b[?25hdone\n",
            "  Created wheel for pymatgen: filename=pymatgen-2020.11.11-cp36-cp36m-linux_x86_64.whl size=3575276 sha256=2b51a696554cc6380599865182b6a026e41e301a2f0db7e9d09b0fd438692280\n",
            "  Stored in directory: /root/.cache/pip/wheels/b1/78/1c/a0dc6caae3d0bcae2f5db36569448d8f064b1cc0e900f0e7ca\n",
            "Successfully built pymatgen\n",
            "\u001b[31mERROR: tensorflow 2.3.0 has requirement scipy==1.4.1, but you'll have scipy 1.5.4 which is incompatible.\u001b[0m\n",
            "\u001b[31mERROR: albumentations 0.1.12 has requirement imgaug<0.2.7,>=0.2.5, but you'll have imgaug 0.2.9 which is incompatible.\u001b[0m\n",
            "Installing collected packages: ruamel.yaml.clib, ruamel.yaml, monty, scipy, spglib, plotly, uncertainties, pymatgen\n",
            "  Found existing installation: scipy 1.4.1\n",
            "    Uninstalling scipy-1.4.1:\n",
            "      Successfully uninstalled scipy-1.4.1\n",
            "  Found existing installation: plotly 4.4.1\n",
            "    Uninstalling plotly-4.4.1:\n",
            "      Successfully uninstalled plotly-4.4.1\n",
            "Successfully installed monty-4.0.2 plotly-4.13.0 pymatgen-2020.11.11 ruamel.yaml-0.16.12 ruamel.yaml.clib-0.2.2 scipy-1.5.4 spglib-1.16.0 uncertainties-3.1.5\n"
          ],
          "name": "stdout"
        }
      ]
    },
    {
      "cell_type": "code",
      "metadata": {
        "id": "GBkgUFA92R7d"
      },
      "source": [
        "from random import sample\n",
        "import numpy as np\n",
        "import torch\n",
        "import torch.nn as nn\n",
        "import torch.optim as optim\n",
        "from sklearn import metrics\n",
        "from torch.autograd import Variable\n",
        "from torch.utils.data import DataLoader\n",
        "from cgcnn.data import CIFData\n",
        "from cgcnn.data import collate_pool, get_train_val_test_loader\n",
        "from cgcnn.model import CrystalGraphConvNet\n",
        "gpu_boole = torch.cuda.is_available()"
      ],
      "execution_count": 7,
      "outputs": []
    },
    {
      "cell_type": "code",
      "metadata": {
        "id": "o2mBavNL3AwP"
      },
      "source": [
        "sample_dataset = CIFData('sample-regression')"
      ],
      "execution_count": 8,
      "outputs": []
    },
    {
      "cell_type": "code",
      "metadata": {
        "id": "9tkL1Snn4VuX"
      },
      "source": [
        "from pymatgen.ext.matproj import MPRester\n",
        "from pymatgen.ext.matproj import MPRestError\n",
        "mp_query_obj = MPRester('T1hL7XC0RoRb84hN')"
      ],
      "execution_count": 9,
      "outputs": []
    },
    {
      "cell_type": "code",
      "metadata": {
        "colab": {
          "base_uri": "https://localhost:8080/"
        },
        "id": "sNE8eM-y7V7Z",
        "outputId": "0c760ae3-1631-446f-eeeb-91a4a7ea3eba"
      },
      "source": [
        "csv_read_obj = open('material-data/mp-ids-27430.csv')\n",
        "for id in csv_read_obj:\n",
        "    print(id)\n",
        "    break"
      ],
      "execution_count": 10,
      "outputs": [
        {
          "output_type": "stream",
          "text": [
            "mp-754118\n",
            "\n"
          ],
          "name": "stdout"
        }
      ]
    },
    {
      "cell_type": "code",
      "metadata": {
        "colab": {
          "base_uri": "https://localhost:8080/"
        },
        "id": "r2-47Luq9g66",
        "outputId": "6f71cfc6-829d-43af-f348-2bc0b88233ee"
      },
      "source": [
        "id = 'mp-754118'\n",
        "temp_dict = {\n",
        "    'material_id':str(id)\n",
        "}\n",
        "# results=mp_query_obj.query({\"material_id\":'mp-754118'}, properties=[\"cif\"])\n",
        "results = mp_query_obj.query(temp_dict, properties=['cif'])\n",
        "# print(results[0]['cif'])\n",
        "print(results)"
      ],
      "execution_count": 11,
      "outputs": [
        {
          "output_type": "stream",
          "text": [
            "[{'cif': \"# generated using pymatgen\\ndata_Sr(AsO3)2\\n_symmetry_space_group_name_H-M   'P 1'\\n_cell_length_a   4.94714950\\n_cell_length_b   4.94714950\\n_cell_length_c   5.52334200\\n_cell_angle_alpha   90.00000000\\n_cell_angle_beta   90.00000000\\n_cell_angle_gamma   119.99999333\\n_symmetry_Int_Tables_number   1\\n_chemical_formula_structural   Sr(AsO3)2\\n_chemical_formula_sum   'Sr1 As2 O6'\\n_cell_volume   117.06920405\\n_cell_formula_units_Z   1\\nloop_\\n _symmetry_equiv_pos_site_id\\n _symmetry_equiv_pos_as_xyz\\n  1  'x, y, z'\\nloop_\\n _atom_site_type_symbol\\n _atom_site_label\\n _atom_site_symmetry_multiplicity\\n _atom_site_fract_x\\n _atom_site_fract_y\\n _atom_site_fract_z\\n _atom_site_occupancy\\n  Sr  Sr0  1  0.00000000  0.00000000  0.00000000  1\\n  As  As1  1  0.33333300  0.66666700  0.50000000  1\\n  As  As2  1  0.66666700  0.33333300  0.50000000  1\\n  O  O3  1  0.00000000  0.61751500  0.69151800  1\\n  O  O4  1  0.00000000  0.38248500  0.30848200  1\\n  O  O5  1  0.38248500  0.38248500  0.69151800  1\\n  O  O6  1  0.61751500  0.61751500  0.30848200  1\\n  O  O7  1  0.38248500  0.00000000  0.30848200  1\\n  O  O8  1  0.61751500  0.00000000  0.69151800  1\\n\"}]\n"
          ],
          "name": "stdout"
        }
      ]
    },
    {
      "cell_type": "code",
      "metadata": {
        "colab": {
          "base_uri": "https://localhost:8080/"
        },
        "id": "fq546CwJ-PkI",
        "outputId": "0fc42615-6f06-4090-d15e-5d8832767335"
      },
      "source": [
        "csv_read_obj = open('ABX3.csv')\n",
        "for m, material in enumerate(csv_read_obj):\n",
        "    if m > 0:\n",
        "        print(material.strip().split(',')[0].strip(\"\\\"\"))\n",
        "        break"
      ],
      "execution_count": 12,
      "outputs": [
        {
          "output_type": "stream",
          "text": [
            "mp-1206877\n"
          ],
          "name": "stdout"
        }
      ]
    },
    {
      "cell_type": "code",
      "metadata": {
        "colab": {
          "base_uri": "https://localhost:8080/"
        },
        "id": "w5-pVrmm_1r4",
        "outputId": "bdba710d-f543-4190-9fc5-7b93fcaa5450"
      },
      "source": [
        "id = 'mp-1206877'\n",
        "temp_dict = {\n",
        "    'material_id':str(id)\n",
        "}\n",
        "# results=mp_query_obj.query({\"material_id\":'mp-754118'}, properties=[\"cif\"])\n",
        "results = mp_query_obj.query(temp_dict, properties=['cif', 'band_gap', 'formation_energy_per_atom'])\n",
        "print(results[0]['cif'])\n",
        "# print(results)"
      ],
      "execution_count": 13,
      "outputs": [
        {
          "output_type": "stream",
          "text": [
            "# generated using pymatgen\n",
            "data_Lu3PbC\n",
            "_symmetry_space_group_name_H-M   'P 1'\n",
            "_cell_length_a   4.78686800\n",
            "_cell_length_b   4.78686800\n",
            "_cell_length_c   4.78686800\n",
            "_cell_angle_alpha   90.00000000\n",
            "_cell_angle_beta   90.00000000\n",
            "_cell_angle_gamma   90.00000000\n",
            "_symmetry_Int_Tables_number   1\n",
            "_chemical_formula_structural   Lu3PbC\n",
            "_chemical_formula_sum   'Lu3 Pb1 C1'\n",
            "_cell_volume   109.68679717\n",
            "_cell_formula_units_Z   1\n",
            "loop_\n",
            " _symmetry_equiv_pos_site_id\n",
            " _symmetry_equiv_pos_as_xyz\n",
            "  1  'x, y, z'\n",
            "loop_\n",
            " _atom_site_type_symbol\n",
            " _atom_site_label\n",
            " _atom_site_symmetry_multiplicity\n",
            " _atom_site_fract_x\n",
            " _atom_site_fract_y\n",
            " _atom_site_fract_z\n",
            " _atom_site_occupancy\n",
            "  Lu  Lu0  1  0.50000000  0.00000000  0.00000000  1\n",
            "  Lu  Lu1  1  0.00000000  0.50000000  0.00000000  1\n",
            "  Lu  Lu2  1  0.00000000  0.00000000  0.50000000  1\n",
            "  Pb  Pb3  1  0.50000000  0.50000000  0.50000000  1\n",
            "  C  C4  1  0.00000000  0.00000000  0.00000000  1\n",
            "\n"
          ],
          "name": "stdout"
        }
      ]
    },
    {
      "cell_type": "code",
      "metadata": {
        "id": "pEQ1fyZgAkbf"
      },
      "source": [
        "# import os\n",
        "# from os.path import join\n",
        "# from pymatgen.io.cif import CifParser\n",
        "# from pymatgen import Structure\n",
        "\n",
        "# def find_band_gap(cif_text):\n",
        "#     for line in cif_text:\n",
        "#         try:\n",
        "#             if line[0] == '#':\n",
        "#                 # print(line.split(' '))\n",
        "#                 temp = line.split(' ')\n",
        "#                 if temp[1] == 'Bandgap,' and temp[2] == 'GGA':\n",
        "#                     return temp[-1]\n",
        "#         except IndexError:\n",
        "#             pass\n",
        "\n",
        "# all_cifs = os.listdir('cif_merge')\n",
        "# hoip_band_gap = open('hoip_band_gap.csv', 'w+')\n",
        "# hoip_band_gap.write('id,BandGap\\n')\n",
        "# for fptr in all_cifs:\n",
        "#     # stuct = Structure.from_file(join('cif_merge', fptr))\n",
        "#     # temp_parser = CifParser(join('cif_merge', fptr))\n",
        "#     # struct = temp_parser.get_structures()[0]\n",
        "#     # print(struct.)\n",
        "#     # break\n",
        "#     with open(join('cif_merge', fptr)) as fobj:\n",
        "#         temp = fobj.read().split('\\n')\n",
        "#         prop = find_band_gap(temp)\n",
        "#         # print(fptr.split('.')[0])\n",
        "#         line = str(fptr.split('.')[0]) + ',' + prop + '\\n'\n",
        "#         # print(line)\n",
        "#         hoip_band_gap.write(line)\n",
        "#         fobj.close()\n",
        "#     # break\n",
        "# hoip_band_gap.close()"
      ],
      "execution_count": null,
      "outputs": []
    },
    {
      "cell_type": "code",
      "metadata": {
        "id": "Jcd96hjtsv45"
      },
      "source": [
        "class Normalizer(object):\n",
        "    \"\"\"Normalize a Tensor and restore it later. \"\"\"\n",
        "    def __init__(self, tensor):\n",
        "        \"\"\"tensor is taken as a sample to calculate the mean and std\"\"\"\n",
        "        self.mean = torch.mean(tensor)\n",
        "        self.std = torch.std(tensor)\n",
        "\n",
        "    def norm(self, tensor):\n",
        "        return (tensor - self.mean) / self.std\n",
        "\n",
        "    def denorm(self, normed_tensor):\n",
        "        return normed_tensor * self.std + self.mean\n",
        "\n",
        "    def state_dict(self):\n",
        "        return {'mean': self.mean,\n",
        "                'std': self.std}\n",
        "\n",
        "    def load_state_dict(self, state_dict):\n",
        "        self.mean = state_dict['mean']\n",
        "        self.std = state_dict['std']"
      ],
      "execution_count": 14,
      "outputs": []
    },
    {
      "cell_type": "code",
      "metadata": {
        "id": "khioCsb71-b5"
      },
      "source": [
        "def mae(prediction, target):\n",
        "    \"\"\"\n",
        "    Computes the mean absolute error between prediction and target\n",
        "    Parameters\n",
        "    ----------\n",
        "    prediction: torch.Tensor (N, 1)\n",
        "    target: torch.Tensor (N, 1)\n",
        "    \"\"\"\n",
        "    return torch.mean(torch.abs(target - prediction))"
      ],
      "execution_count": 23,
      "outputs": []
    },
    {
      "cell_type": "code",
      "metadata": {
        "id": "wc077Thf2Ni-"
      },
      "source": [
        "class AverageMeter(object):\n",
        "    \"\"\"Computes and stores the average and current value\"\"\"\n",
        "    def __init__(self):\n",
        "        self.reset()\n",
        "\n",
        "    def reset(self):\n",
        "        self.val = 0\n",
        "        self.avg = 0\n",
        "        self.sum = 0\n",
        "        self.count = 0\n",
        "\n",
        "    def update(self, val, n=1):\n",
        "        self.val = val\n",
        "        self.sum += val * n\n",
        "        self.count += n\n",
        "        self.avg = self.sum / self.count"
      ],
      "execution_count": 24,
      "outputs": []
    },
    {
      "cell_type": "code",
      "metadata": {
        "colab": {
          "base_uri": "https://localhost:8080/"
        },
        "id": "SUTKMkThcLNf",
        "outputId": "06865cce-5791-4d31-d57e-e93c176e9873"
      },
      "source": [
        "dataset = CIFData('cif_merge')\n",
        "collate_fn = collate_pool\n",
        "train_loader, val_loader, test_loader = get_train_val_test_loader(dataset=dataset, collate_fn=collate_fn, batch_size=5, train_ratio=0.7, val_ratio=0.15, test_ratio=0.15, pin_memory=gpu_boole, return_test=True, train_size=None, test_size=None, val_size=None)\n",
        "structures, _, _ = dataset[0]\n",
        "orig_atom_fea_len = structures[0].shape[-1]\n",
        "nbr_fea_len = structures[1].shape[-1]"
      ],
      "execution_count": 15,
      "outputs": [
        {
          "output_type": "stream",
          "text": [
            "/usr/local/lib/python3.6/dist-packages/pymatgen/io/cif.py:712: UserWarning:\n",
            "\n",
            "No _symmetry_equiv_pos_as_xyz type key found. Spacegroup from _symmetry_space_group_name_H-M used.\n",
            "\n",
            "/usr/local/lib/python3.6/dist-packages/pymatgen/io/cif.py:1123: UserWarning:\n",
            "\n",
            "Issues encountered while parsing CIF: No _symmetry_equiv_pos_as_xyz type key found. Spacegroup from _symmetry_space_group_name_H-M used.\n",
            "\n"
          ],
          "name": "stderr"
        }
      ]
    },
    {
      "cell_type": "code",
      "metadata": {
        "id": "V2d8fPhIPRjt"
      },
      "source": [
        "model_checkpoint = torch.load('band-gap.pth.tar')"
      ],
      "execution_count": 16,
      "outputs": []
    },
    {
      "cell_type": "code",
      "metadata": {
        "colab": {
          "base_uri": "https://localhost:8080/"
        },
        "id": "8m8XyzHwqBrO",
        "outputId": "af6b2d29-727c-47f7-cc61-541d6860b596"
      },
      "source": [
        "print(model_checkpoint['args']['atom_fea_len'])\n",
        "model_args = model_checkpoint['args']\n",
        "print(model_args)"
      ],
      "execution_count": 17,
      "outputs": [
        {
          "output_type": "stream",
          "text": [
            "64\n",
            "{'dataset': 'matproj', 'data_options': ['/oasis/scratch/comet/txie/temp_project/data/matproj/20170419_semi.json', 'regression', 'band_gap'], 'atom_encoder': 'custom', 'atom_encoder_param': ['/home/txie/works/cgnn/Local/embeddings/elem_prop_embedding.json'], 'task': 'regression', 'n_out': 1, 'disable_cuda': False, 'workers': 0, 'epochs': 1000, 'start_epoch': 0, 'batch_size': 256, 'lr': 0.05, 'lr_milestones': [800], 'momentum': 0.9, 'weight_decay': 0.0, 'print_freq': 10, 'resume': '', 'train_size': 16458, 'val_size': 5485, 'test_size': 5486, 'optim': 'SGD', 'atom_fea_len': 64, 'h_fea_len': 32, 'n_conv': 4, 'n_h': 1, 'cuda': True}\n"
          ],
          "name": "stdout"
        }
      ]
    },
    {
      "cell_type": "code",
      "metadata": {
        "id": "fU2dEZM3q8FC"
      },
      "source": [
        "model = CrystalGraphConvNet(orig_atom_fea_len, nbr_fea_len,\n",
        "                            atom_fea_len=model_args['atom_fea_len'],\n",
        "                            n_conv=model_args['n_conv'], n_h=model_args['n_h'],\n",
        "                            classification=False)\n",
        "if gpu_boole:\n",
        "    model.cuda()\n",
        "criterion=nn.MSELoss()\n",
        "normalizer = Normalizer(torch.zeros(3))\n",
        "model.load_state_dict = model_checkpoint['state_dict']\n",
        "normalizer.load_state_dict = model_checkpoint['normalizer']"
      ],
      "execution_count": 26,
      "outputs": []
    },
    {
      "cell_type": "code",
      "metadata": {
        "id": "OhLunDhrtQeJ",
        "colab": {
          "base_uri": "https://localhost:8080/"
        },
        "outputId": "5f47bedc-e9b9-4f0c-c641-1158a36b4ed6"
      },
      "source": [
        "model.eval()\n",
        "mae_errors = AverageMeter()\n",
        "losses = []\n",
        "for i, (input, target, batch_cif_ids) in enumerate(val_loader):\n",
        "    with torch.no_grad():\n",
        "        if gpu_boole:\n",
        "            input_var = (input[0].cuda(),\n",
        "                         input[1].cuda(),\n",
        "                         input[2].cuda(),\n",
        "                         [crys_idx.cuda() for crys_idx in input[3]])\n",
        "        else:\n",
        "            input_var = input\n",
        "        target_normed = normalizer.norm(target)\n",
        "        if gpu_boole:\n",
        "            target_normed = target_normed.cuda()\n",
        "        output = model(*input_var)\n",
        "        loss = criterion(output, target_normed)\n",
        "        losses.append(loss)\n",
        "        error = mae(normalizer.denorm(output.data.cpu()), target)\n",
        "        mae_errors.update(error, target.size(0))\n"
      ],
      "execution_count": 27,
      "outputs": [
        {
          "output_type": "stream",
          "text": [
            "/usr/local/lib/python3.6/dist-packages/pymatgen/io/cif.py:712: UserWarning:\n",
            "\n",
            "No _symmetry_equiv_pos_as_xyz type key found. Spacegroup from _symmetry_space_group_name_H-M used.\n",
            "\n",
            "/usr/local/lib/python3.6/dist-packages/pymatgen/io/cif.py:1123: UserWarning:\n",
            "\n",
            "Issues encountered while parsing CIF: No _symmetry_equiv_pos_as_xyz type key found. Spacegroup from _symmetry_space_group_name_H-M used.\n",
            "\n",
            "/usr/local/lib/python3.6/dist-packages/pymatgen/io/cif.py:1123: UserWarning:\n",
            "\n",
            "Issues encountered while parsing CIF: Some fractional co-ordinates rounded to ideal values to avoid issues with finite precision.\n",
            "No _symmetry_equiv_pos_as_xyz type key found. Spacegroup from _symmetry_space_group_name_H-M used.\n",
            "\n"
          ],
          "name": "stderr"
        }
      ]
    },
    {
      "cell_type": "code",
      "metadata": {
        "colab": {
          "base_uri": "https://localhost:8080/"
        },
        "id": "q4n1JHpB0PxQ",
        "outputId": "94a87ab9-2cf8-448b-f42d-a58cb1d6068b"
      },
      "source": [
        "print(loss)"
      ],
      "execution_count": 22,
      "outputs": [
        {
          "output_type": "stream",
          "text": [
            "tensor(inf, device='cuda:0')\n"
          ],
          "name": "stdout"
        }
      ]
    },
    {
      "cell_type": "code",
      "metadata": {
        "colab": {
          "base_uri": "https://localhost:8080/"
        },
        "id": "8U4MYaDg00sQ",
        "outputId": "0e95ccd5-13dd-4bc6-9055-88ab22d03f19"
      },
      "source": [
        "print(mae_errors.avg)"
      ],
      "execution_count": 29,
      "outputs": [
        {
          "output_type": "stream",
          "text": [
            "tensor(2.8890)\n"
          ],
          "name": "stdout"
        }
      ]
    },
    {
      "cell_type": "code",
      "metadata": {
        "colab": {
          "base_uri": "https://localhost:8080/"
        },
        "id": "1Xf9y_1T3aiB",
        "outputId": "b8d0ad59-2713-4217-d34f-90f880994060"
      },
      "source": [
        "print(losses)"
      ],
      "execution_count": 30,
      "outputs": [
        {
          "output_type": "stream",
          "text": [
            "[tensor(inf, device='cuda:0'), tensor(inf, device='cuda:0'), tensor(inf, device='cuda:0'), tensor(inf, device='cuda:0'), tensor(inf, device='cuda:0'), tensor(inf, device='cuda:0'), tensor(inf, device='cuda:0'), tensor(inf, device='cuda:0'), tensor(inf, device='cuda:0'), tensor(inf, device='cuda:0'), tensor(inf, device='cuda:0'), tensor(inf, device='cuda:0'), tensor(inf, device='cuda:0'), tensor(inf, device='cuda:0'), tensor(inf, device='cuda:0'), tensor(inf, device='cuda:0'), tensor(inf, device='cuda:0'), tensor(inf, device='cuda:0'), tensor(inf, device='cuda:0'), tensor(inf, device='cuda:0'), tensor(inf, device='cuda:0'), tensor(inf, device='cuda:0'), tensor(inf, device='cuda:0'), tensor(inf, device='cuda:0'), tensor(inf, device='cuda:0'), tensor(inf, device='cuda:0'), tensor(inf, device='cuda:0'), tensor(inf, device='cuda:0'), tensor(inf, device='cuda:0'), tensor(inf, device='cuda:0'), tensor(inf, device='cuda:0'), tensor(inf, device='cuda:0'), tensor(inf, device='cuda:0'), tensor(inf, device='cuda:0'), tensor(inf, device='cuda:0'), tensor(inf, device='cuda:0'), tensor(inf, device='cuda:0'), tensor(inf, device='cuda:0'), tensor(inf, device='cuda:0'), tensor(inf, device='cuda:0'), tensor(inf, device='cuda:0')]\n"
          ],
          "name": "stdout"
        }
      ]
    },
    {
      "cell_type": "code",
      "metadata": {
        "id": "uG7ogVtO6oTy"
      },
      "source": [
        ""
      ],
      "execution_count": null,
      "outputs": []
    }
  ]
}